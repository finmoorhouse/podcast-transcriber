{
 "cells": [
  {
   "cell_type": "code",
   "execution_count": 68,
   "metadata": {},
   "outputs": [
    {
     "name": "stdout",
     "output_type": "stream",
     "text": [
      "Loaded 8180 characters from transcription_test.md\n"
     ]
    }
   ],
   "source": [
    "# Read the content of transcription_test.md\n",
    "with open('transcription_test.md', 'r', encoding='utf-8') as file:\n",
    "    data = file.read();\n",
    "\n",
    "print(f\"Loaded {len(data)} characters from transcription_test.md\")\n",
    "\n"
   ]
  },
  {
   "cell_type": "code",
   "execution_count": 81,
   "metadata": {},
   "outputs": [],
   "source": [
    "import re\n",
    "def split(text: str):\n",
    "    \"\"\"\n",
    "    Split the text into sentences, preserving speaker labels and line breaks.\n",
    "\n",
    "    Args:\n",
    "        text (str): The input text to be split.\n",
    "\n",
    "    Returns:\n",
    "        List[str]: A list of sentences.\n",
    "    \"\"\"\n",
    "    # Split by newlines first to preserve speaker labels and line breaks\n",
    "    lines = text.split('\\n')\n",
    "    sentences = []\n",
    "    for line in lines:\n",
    "        if line.strip().startswith('**[SPEAKER'):\n",
    "            sentences.append(line)\n",
    "        elif line.strip() == '':\n",
    "            sentences.append('\\n')  # Preserve empty lines\n",
    "        else:\n",
    "            # Use regex to split into sentences\n",
    "            line_sentences = re.split(r'(?<=[.!?])\\s+', line)\n",
    "            sentences.extend(line_sentences)\n",
    "    return [s for s in sentences if s]  # Remove empty strings but keep '\\n'"
   ]
  },
  {
   "cell_type": "code",
   "execution_count": 85,
   "metadata": {},
   "outputs": [],
   "source": [
    "def create_chunks(sentences, max_tokens: int = 600):\n",
    "    \"\"\"\n",
    "    Create chunks of sentences that fit within the max_tokens limit.\n",
    "\n",
    "    Args:\n",
    "        sentences (List[str]): List of sentences to be chunked.\n",
    "        max_tokens (int): Maximum number of tokens per chunk.\n",
    "\n",
    "    Returns:\n",
    "        List[str]: A list of chunks.\n",
    "    \"\"\"\n",
    "    chunks = []\n",
    "    current_chunk = []\n",
    "    current_token_count = 0\n",
    "\n",
    "    for sentence in sentences:\n",
    "        sentence_tokens = len(sentence.split())\n",
    "        if current_token_count + sentence_tokens > max_tokens:\n",
    "            chunks.append(\"\".join(current_chunk))\n",
    "            current_chunk = []\n",
    "            current_token_count = 0\n",
    "\n",
    "        current_chunk.append(sentence)\n",
    "        current_token_count += sentence_tokens\n",
    "\n",
    "    if current_chunk:\n",
    "        chunks.append(\"\".join(current_chunk))\n",
    "\n",
    "    return chunks"
   ]
  },
  {
   "cell_type": "code",
   "execution_count": 86,
   "metadata": {},
   "outputs": [
    {
     "name": "stdout",
     "output_type": "stream",
     "text": [
      "['Transcript before formatting:', '\\n', '\\n', '\\n', '**[SPEAKER 1]**: ', \"Hey, this is Here This Idea and in this episode I spoke with Jacob Trofeathern, who oversees Open Philanthropy's science and science policy programs.\", 'Open Philanthropy is a philanthropic thunder, which I would describe as being unusually serious about researching and identifying causes where funding is likely to help people the most.', 'And in this episode, we spoke about global health research and development.', 'So when I think about philanthropy or charity funding in the context of global health, I normally think about things like, you know, humanitarian aid or just direct public health spending on things like malaria nets or distributing diet supplements or vaccines.', 'But vaccines and life saving drugs are health technologies.', \"Often, they're really quite advanced technologies and, like, we all saw how it was only possible to spend money on buying up and distributing vaccines for COVID once we actually had some kind of demonstrably safe vaccines in the 1st place.\", 'Right?', 'Same with smallpox, you know, smallpox vaccines and innovations in how to deliver and transport them and store them.', 'That all meant that smallpox is now eradicated and 100 of millions of lives have been spared from smallpox since.', 'So if you care about global health, then you might also start to think about ways to support research and development.', \"And, of course, that's especially true for diseases which mostly affects the world's poorest people since those diseases see much less r and d spending relative to their health burdens compared to diseases where there's just a lot of demand for those products which treat or prevent or diagnose them.\", \"That all said, it was really not clear to me what global health r and d looks like at all or even how to support it and that's exactly what Jacob spends most his time thinking about.\", 'So we talked about prospects for a TB and strep a vaccine, monoclonal antibodies for malaria and even bugs that stop the spread of malaria.', 'How much money gets spent on r and d for neglected diseases as a share of all health related r and d.', 'How a drug or vaccine goes from initial developments to getting approved and getting distributed.', \"Policy tools and reforms for the FDA and the drug approval process, which could really accelerate drugs for neglected diseases without costing taxpayer money, why there isn't a kind of give well for global health r and d, lessons from operation warp speed, and also how global health r and d might compare in cost effectiveness terms to direct interventions like, you know, malaria nets or also frontier r and d aimed at economic growth primarily, and a whole lot more besides.\", \"So without further ado, here's Jacob Trefetham.\", 'Jacob Trefethen, thanks for joining me.', '\\n', '\\n', '**[SPEAKER 0]**: ', 'Thanks for having me.', '\\n', '\\n', '**[SPEAKER 1]**: ', \"So we're gonna be talking about global health r and d.\", 'But I guess, first of all, how do you describe what you do?', \"Like, if you're at a party and someone asks you, what's what's the answer?\", '\\n', '\\n', '**[SPEAKER 0]**: ', 'So I am a program director at Open Philanthropy, and I work on giving away about a $100,000,000 a year with half a dozen colleagues to biomedical science.', \"And we have a tilt towards global health r and d, so science and product development that might help people around the world, not just in the US where we're based, and, mostly give away the money of Dustin Moskovitz and Carrie Tuna.\", '\\n', '\\n', '**[SPEAKER 1]**: ', 'Gotcha.', \"And I think a big reason I wanted to talk to you was this blog you recently started, and it started with this post on health technologies, which probably won't exist in 5 years.\", 'Maybe a place to start is TB and TB vaccines.', 'So I know, what should I know about TB as a disease, first of all?', '\\n', '\\n', '**[SPEAKER 0]**: ', \"TB is a fascinating disease because there's so much we don't know about it, even though it's such an iconic disease that's, you know, coevolved with us for millennia at least, and and is, it still kills over a 1000000 people every year.\", \"And, you know, there aren't that many things that kill over a 1000000 people every year.\", \"There's maybe 60,000,000 people die every year around the world.\", 'So TB is really, on its own, doing a huge amount of damage.', \"It's caused by bacteria.\", 'Those bacteria can stay dormant for many years in your body.', \"Most of the time if you're infected with TB, it doesn't cause a problem.\", \"So, you know, it's contested how many people around the world are latently infected, but probably 100 of millions.\", \"And for most of those people, it's gonna be okay.\", 'But, if you get pulmonary disease, so disease in the lung, it can, kill you.', \"And what else is known is that it's a disease intimately related to nutrition and to immune deficiency.\", \"So we're gonna talk a lot about probably new technologies in in this discussion, but it's probably worth talking a bit about nutrition, which is a boring technology of food where, you know, there's a recent study in a state in India called the Ration Study, that gave people who had TB disease rations or, you know, I think it was 1200 calories of food a day for 6 months along with some micronutrients.\", \"And so everyone in the study got that if they had TB, but then their household contacts of that person with TB were randomized into a treatment arm and a control arm where the treatment arm so, you know, think if you got kids and you live with who don't yet have TB, but, you know, are at risk, the treatment arm would get, I think it was 750 calories of of food and and, you know, some micronutrients for 6 months as well.\", \"And it's a really striking result that, in the treatment arm, there was 40% less instance of TB, 50% less TB disease, or I think it was pulmonary disease specifically.\", \"And that's that's quite something.\", \"That's, you know, that's a vaccine right there\", '\\n', '\\n', '**[SPEAKER 1]**: ', 'in the sense of Yeah.', 'Yeah.', 'Yeah.', '\\n', '\\n', '**[SPEAKER 0]**: ', 'If you if you just had a better nutrition in some low and middle income countries, it would help people a lot already.', \"So maybe I'll put that front and center, before we get into the technology.\", \"But, I mean, it's it's striking as well what we don't know about TB as I set up top.\", \"So I'm gonna just say some of the things that bug me all day.\", 'So how many people are latently infected?', \"I said, it's Yeah.\", \"It's contested.\", \"So I've always gotta be careful if I say we don't know because often that's I don't know.\", \"But I'll the things I'm gonna mention are at least contested between researchers, and I'm not a TB researcher.\", 'So how many people are latently infected?', 'Katherine Wu at The Atlantic had a really good piece going over this maybe 9 months ago or something.', \"The statistic you'll see if you Google it that gets bandied around is that a quarter of people around the world, 2,000,000,000 people That\", '\\n', '\\n', '**[SPEAKER 1]**: ', 'was what I read on the bus.', 'Yeah.', '\\n', '\\n', '**[SPEAKER 0]**: ', 'Yeah.', \"So that's probably false.\", \"That's probably an artifact of how we've done the extrapolation from from tests, and it's probably 100 of millions, but quite how many not not really well known.\", 'Subclinical TB.', \"So that was latent TB where you don't have any clinical symptoms.\", \"There's sort of a gradation.\", \"There's before you have before you sort of have a persistent cough maybe or a coughing blood or having fever, night sweats, you might have might not know you have TB, but if you did an X-ray, your lungs would look not so great.\", '\\n', '\\n', '**[SPEAKER 1]**: ', 'Okay.', 'Yeah.', '\\n', '\\n', '**[SPEAKER 1]**: ', \"And so there's this pretty contested notion of subclinical TB that's not latent.\", \"It's not full on TB.\", 'What really is it?', 'And, you know, people are debating how you should define that, but also how much did it contribute to transmission?', \"I don't think that's well known.\", 'You know?', \"Is is it the case that almost all spread is happening from people who you would guess, or is there a lot of people who don't have symptoms necessarily but are contributing to spread?\", 'Another one, I mean, just with modern tools, we now know a lot more about the function of different genes in in the bacteria and and the proteins they code for.', \"And there's there's 4,000 genes in that bacteria, and, you know, we don't even know what all human genes do yet.\", 'So']\n"
     ]
    }
   ],
   "source": [
    "sentences = split(data)\n",
    "\n",
    "print(sentences)\n",
    "\n",
    "chunks = create_chunks(sentences)\n",
    "\n",
    "with open('chunks.md', 'w', encoding='utf-8') as f:\n",
    "    for i, chunk in enumerate(chunks):\n",
    "        f.write(f\"Chunk {i+1}:\\n{chunk}\\n\\n\")"
   ]
  },
  {
   "cell_type": "code",
   "execution_count": 92,
   "metadata": {},
   "outputs": [],
   "source": [
    "from dotenv import load_dotenv\n",
    "import time\n",
    "from openai import OpenAI, RateLimitError\n",
    "load_dotenv()\n",
    "client = OpenAI(api_key=os.getenv(\"OPENAI_API_KEY\"))\n",
    "def process_chunk_with_gpt4(chunk):\n",
    "    \"\"\"\n",
    "    Process a chunk of text with GPT-4.\n",
    "\n",
    "    Args:\n",
    "        chunk (str): The chunk of text to be processed.\n",
    "\n",
    "    Returns:\n",
    "        str: The processed chunk of text.\n",
    "    \"\"\"\n",
    "    max_retries = 3\n",
    "    for attempt in range(max_retries):\n",
    "        try:\n",
    "            print(f\"Processing chunk: {chunk[:200]}...\")\n",
    "            response = client.chat.completions.create(\n",
    "                model=\"gpt-4-0613\",  # Updated to a standard GPT-4 model\n",
    "                messages=[\n",
    "                    {\n",
    "                        \"role\": \"system\",\n",
    "                        \"content\": \"You are an AI assistant that receives a verbatim transcript of an interview. You respond with the same text, lightly edited for clarity. You remove filler words, correct grammatical mistakes, and replace obvious transcription mistakes with the more likely alternative given the context. You remove obvious repetition. You add links in markdown format to resources mentioned where you are confident of the link (so 'World Health Organisation' could become '[World Health Organisation](https://www.who.int/)'). When an obvious new topic is introduced, you may add a markdown-formated h3 header (### Topic) before the next speaker is introduced in bold. You DO NOT invent any new sentences. You do NOT modify the speaker names in bold. The text should be returned in just the same format as it was received.\",\n",
    "                    },\n",
    "                    {\"role\": \"user\", \"content\": chunk},\n",
    "                ],\n",
    "                max_tokens=4000,\n",
    "                n=1,\n",
    "                temperature=0.5,\n",
    "            )\n",
    "\n",
    "            if response.choices and len(response.choices) > 0:\n",
    "                processed_chunk = response.choices[0].message.content.strip()\n",
    "                print(f\"Processed chunk: {processed_chunk[:200]}...\")\n",
    "                return processed_chunk\n",
    "            else:\n",
    "                print(f\"Unexpected response structure: {response}\")\n",
    "                return None\n",
    "        except Exception as e:\n",
    "            if isinstance(e, RateLimitError) and attempt < max_retries - 1:\n",
    "                print(f\"Rate limit error: {e}\")\n",
    "                time.sleep(2**attempt)  # Exponential backoff\n",
    "            else:\n",
    "                print(f\"Error processing chunk: {e}\")\n",
    "                return None"
   ]
  },
  {
   "cell_type": "code",
   "execution_count": 93,
   "metadata": {},
   "outputs": [
    {
     "name": "stdout",
     "output_type": "stream",
     "text": [
      "Processing chunk: Transcript before formatting:\n",
      "\n",
      "\n",
      "**[SPEAKER 1]**: Hey, this is Here This Idea and in this episode I spoke with Jacob Trofeathern, who oversees Open Philanthropy's science and science policy programs.Op...\n",
      "Processed chunk: Formatted Transcript:\n",
      "\n",
      "**[SPEAKER 1]**: Welcome to this episode of Here This Idea. Today, I spoke with Jacob Trefethen, who oversees the science and science policy programs at Open Philanthropy. Open ...\n",
      "Processing chunk: And I think a big reason I wanted to talk to you was this blog you recently started, and it started with this post on health technologies, which probably won't exist in 5 years.Maybe a place to start ...\n",
      "Processed chunk: I believe a significant reason I wanted to discuss with you is your recently started blog, particularly your post on health technologies that may not exist in five years. Maybe a good place to start i...\n",
      "Processing chunk: The statistic you'll see if you Google it that gets bandied around is that a quarter of people around the world, 2,000,000,000 people That\n",
      "\n",
      "**[SPEAKER 1]**: was what I read on the bus.Yeah.\n",
      "\n",
      "**[SPEAKE...\n",
      "Processed chunk: The statistic often found online is that a quarter of people around the world, roughly two billion people, have latent tuberculosis.\n",
      "\n",
      "**[SPEAKER 1]**: That was what I read on the bus.\n",
      "\n",
      "**[SPEAKER 0]**...\n"
     ]
    },
    {
     "data": {
      "text/plain": [
       "\"Formatted Transcript:\\n\\n**[SPEAKER 1]**: Welcome to this episode of Here This Idea. Today, I spoke with Jacob Trefethen, who oversees the science and science policy programs at Open Philanthropy. Open Philanthropy is a philanthropic fund that is notably serious about researching and identifying causes where funding is likely to have the most impact. \\n\\n### Global Health Research and Development\\n\\nIn this episode, we discussed global health research and development. When considering philanthropy or charity funding in the context of global health, one might typically think about humanitarian aid or direct public health spending on things like malaria nets, diet supplements, or vaccines. However, vaccines and life-saving drugs are advanced health technologies. For instance, it was only possible to spend money on purchasing and distributing vaccines for COVID-19 once we had demonstrably safe vaccines. Similarly, innovations in delivering, transporting, and storing smallpox vaccines led to the eradication of smallpox, sparing hundreds of millions of lives. \\n\\nIf you are interested in global health, you might also consider supporting research and development. This is particularly true for diseases that predominantly affect the world's poorest people, as these diseases receive significantly less research and development funding relative to their health burdens compared to diseases with high demand for their treatment, prevention, or diagnosis.\\n\\nBefore this discussion, it was unclear to me what global health research and development entails or how to support it. This is exactly what Jacob spends most of his time thinking about. We discussed prospects for tuberculosis and strep A vaccines, monoclonal antibodies for malaria, and even bugs that halt the spread of malaria. We also talked about the amount of money spent on research and development for neglected diseases as a share of all health-related research and development. \\n\\nWe explored how a drug or vaccine goes from initial development to approval and distribution. We considered policy tools and reforms for the FDA and the drug approval process, which could accelerate the development of drugs for neglected diseases without costing taxpayer money. We also discussed why there isn't a 'GiveWell' for global health research and development, lessons from Operation Warp Speed, and how global health research and development might compare in cost-effectiveness terms to direct interventions like malaria nets or frontier research and development aimed primarily at economic growth. \\n\\nNow, let's hear from Jacob Trefethen. Jacob, thank you for joining me.\\n\\n**[SPEAKER 0]**: Thank you for having me.\\n\\n**[SPEAKER 1]**: Today, we're discussing global health research and development. But first, could you describe what you do? If someone at a party asks you, what would be your answer?\\n\\n**[SPEAKER 0]**: I am a program director at Open Philanthropy, and I work on distributing about $100,000,000 a year with a team of half a dozen colleagues to biomedical science. We focus on global health research and development, aiming to help people worldwide, not just in the US where we're based. Most of the funds we distribute come from Dustin Moskovitz and Carrie Tuna.\\n\\n**[SPEAKER 1]**: Understood.\\n\\nI believe a significant reason I wanted to discuss with you is your recently started blog, particularly your post on health technologies that may not exist in five years. Maybe a good place to start is with tuberculosis (TB) and TB vaccines. What should I know about TB as a disease?\\n\\n**[SPEAKER 0]**: TB is a fascinating disease because there's so much we don't yet understand about it, despite its long history with humans. It still kills over a million people every year, a significant number considering around 60 million people die globally each year. TB is caused by bacteria that can stay dormant in your body for many years. Most of the time, if you're infected with TB, it doesn't cause a problem. It's estimated that hundreds of millions of people are latently infected worldwide. For most of these people, it's not an issue. However, if you develop pulmonary disease, it can be fatal.\\n\\nTB is closely related to nutrition and immune deficiency. While we'll likely discuss new technologies, it's worth mentioning nutrition, a basic but crucial aspect of health. There was a recent study in India, the Ration Study, that provided TB patients with rations, including 1200 calories of food a day for six months, along with some micronutrients. Household contacts of the TB patients were divided into a treatment group and a control group. The treatment group received 750 calories of food and some micronutrients for six months. The results were striking: the treatment group had 40% less incidence of TB and 50% less TB disease. This demonstrates the significant impact of nutrition.\\n\\nBefore we delve into technology, it's worth noting what we don't know about TB. Some of the questions that perplex me include: How many people are latently infected? Katherine Wu at The Atlantic wrote an informative piece on this topic about nine months ago.\\n\\n### TB Vaccines\\n\\n**[SPEAKER 1]**: Yes, indeed.\\n\\n**[SPEAKER 0]**: If we improved nutrition in low and middle-income countries, it would already make a significant difference. However, the number of people latently infected remains a subject of debate among researchers. I'm not a TB researcher myself, so I can only relay what's contested in the field.\\n\\nThe statistic often found online is that a quarter of people around the world, roughly two billion people, have latent tuberculosis.\\n\\n**[SPEAKER 1]**: That was what I read on the bus.\\n\\n**[SPEAKER 0]**: That's probably false. The figure is likely an artifact of how we've extrapolated from tests, and the actual number is probably in the hundreds of millions. However, the precise number is not well known. \\n\\n### Subclinical Tuberculosis\\n\\nSubclinical tuberculosis is a form of latent tuberculosis where you don't have any clinical symptoms. Before persistent coughing, coughing blood, fever, or night sweats occur, you might not know you have TB. However, an X-ray would show that your lungs are not in great condition.\\n\\n**[SPEAKER 1]**: Okay.\\n\\n**[SPEAKER 0]**: There's a contested notion of subclinical TB that's not latent, but also not full-blown TB. What exactly is it? People are debating not only how to define it, but also how much it contributes to transmission. It's not well known whether most of the spread occurs from people who show symptoms, or if there are many people without symptoms who are contributing to the spread. \\n\\n### Genetic Research on Tuberculosis\\n\\nWith modern tools, we now know a lot more about the function of different genes in the bacteria and the proteins they code for. There are 4,000 genes in the bacteria, and we don't even fully understand all human genes yet.\""
      ]
     },
     "execution_count": 93,
     "metadata": {},
     "output_type": "execute_result"
    }
   ],
   "source": [
    "def post_process_transcript(transcript: str) -> str:\n",
    "    \"\"\"\n",
    "    Post-process a transcript by splitting it into chunks and processing each chunk with GPT-4.\n",
    "\n",
    "    Args:\n",
    "        transcript (str): The input transcript to be processed.\n",
    "\n",
    "    Returns:\n",
    "        str: The processed transcript.\n",
    "    \"\"\"\n",
    "    sentences = split(transcript)\n",
    "    chunks = create_chunks(sentences)\n",
    "\n",
    "    processed_chunks = []\n",
    "\n",
    "    for chunk in chunks:\n",
    "        processed_chunk = process_chunk_with_gpt4(chunk)\n",
    "        processed_chunks.append(processed_chunk)\n",
    "\n",
    "    return \"\\n\\n\".join(processed_chunks)\n",
    "\n",
    "post_process_transcript(data)"
   ]
  },
  {
   "cell_type": "code",
   "execution_count": 94,
   "metadata": {},
   "outputs": [
    {
     "ename": "NameError",
     "evalue": "name 'processed_chunks' is not defined",
     "output_type": "error",
     "traceback": [
      "\u001b[0;31m---------------------------------------------------------------------------\u001b[0m",
      "\u001b[0;31mNameError\u001b[0m                                 Traceback (most recent call last)",
      "Cell \u001b[0;32mIn[94], line 1\u001b[0m\n\u001b[0;32m----> 1\u001b[0m \u001b[38;5;28mprint\u001b[39m(\u001b[43mprocessed_chunks\u001b[49m)\n",
      "\u001b[0;31mNameError\u001b[0m: name 'processed_chunks' is not defined"
     ]
    }
   ],
   "source": []
  }
 ],
 "metadata": {
  "kernelspec": {
   "display_name": "transcription",
   "language": "python",
   "name": "python3"
  },
  "language_info": {
   "codemirror_mode": {
    "name": "ipython",
    "version": 3
   },
   "file_extension": ".py",
   "mimetype": "text/x-python",
   "name": "python",
   "nbconvert_exporter": "python",
   "pygments_lexer": "ipython3",
   "version": "3.11.7"
  }
 },
 "nbformat": 4,
 "nbformat_minor": 2
}
